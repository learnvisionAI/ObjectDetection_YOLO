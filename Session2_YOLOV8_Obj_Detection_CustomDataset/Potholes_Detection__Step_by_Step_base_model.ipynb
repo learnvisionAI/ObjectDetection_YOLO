{
  "nbformat": 4,
  "nbformat_minor": 0,
  "metadata": {
    "colab": {
      "provenance": [],
      "include_colab_link": true
    },
    "kernelspec": {
      "name": "python3",
      "display_name": "Python 3"
    },
    "language_info": {
      "name": "python"
    },
    "accelerator": "GPU",
    "gpuClass": "standard"
  },
  "cells": [
    {
      "cell_type": "markdown",
      "metadata": {
        "id": "view-in-github",
        "colab_type": "text"
      },
      "source": [
        "<a href=\"https://colab.research.google.com/github/learnvisionAI/ObjectDetection_YOLO/blob/main/Session2_YOLOV8_Obj_Detection_CustomDataset/Potholes_Detection__Step_by_Step_base_model.ipynb\" target=\"_parent\"><img src=\"https://colab.research.google.com/assets/colab-badge.svg\" alt=\"Open In Colab\"/></a>"
      ]
    },
    {
      "cell_type": "markdown",
      "source": [
        "#**Importing the Required Libraries**"
      ],
      "metadata": {
        "id": "lFEY4hkThYI3"
      }
    },
    {
      "cell_type": "code",
      "source": [
        "import os\n",
        "import glob\n",
        "from IPython.display import Image, display\n",
        "from IPython import display"
      ],
      "metadata": {
        "id": "s-a3GfdZhY0t"
      },
      "execution_count": null,
      "outputs": []
    },
    {
      "cell_type": "markdown",
      "source": [
        "# **In the First Step, We need to check whether we have access to the GPU or not**"
      ],
      "metadata": {
        "id": "UonIzaF8hBFJ"
      }
    },
    {
      "cell_type": "code",
      "execution_count": null,
      "metadata": {
        "id": "ixCtMpfygusf"
      },
      "outputs": [],
      "source": [
        "!nvidia-smi"
      ]
    },
    {
      "cell_type": "code",
      "source": [
        "HOME = os.getcwd()"
      ],
      "metadata": {
        "id": "x-vOupV4hVAt"
      },
      "execution_count": null,
      "outputs": []
    },
    {
      "cell_type": "code",
      "source": [
        "print(HOME)"
      ],
      "metadata": {
        "id": "a4bsm1tIhiJz"
      },
      "execution_count": null,
      "outputs": []
    },
    {
      "cell_type": "markdown",
      "source": [
        "#**Installing Ultralytics using Pip Install**"
      ],
      "metadata": {
        "id": "FdgrpCXehuFH"
      }
    },
    {
      "cell_type": "code",
      "source": [
        "!pip install ultralytics==8.0.0"
      ],
      "metadata": {
        "id": "zX_KHEfold1G"
      },
      "execution_count": null,
      "outputs": []
    },
    {
      "cell_type": "markdown",
      "source": [
        "##Checking whether YOLOv8 is Installed and its working Fine"
      ],
      "metadata": {
        "id": "d69BqnLhivMS"
      }
    },
    {
      "cell_type": "code",
      "source": [
        "import ultralytics"
      ],
      "metadata": {
        "id": "WBdEq_9WinBg"
      },
      "execution_count": null,
      "outputs": []
    },
    {
      "cell_type": "code",
      "source": [
        "ultralytics.checks()"
      ],
      "metadata": {
        "id": "EWrOSmH6i2mW"
      },
      "execution_count": null,
      "outputs": []
    },
    {
      "cell_type": "markdown",
      "source": [
        "#**Importing the Potholes Images Dataset from Roboflow**\n",
        "\n",
        "##### https://universe.roboflow.com/devashish-workspace/pothole-detection-2-28w0d/dataset/2/images/?split=train&numImages=60"
      ],
      "metadata": {
        "id": "TLCNeMc6jNa-"
      }
    },
    {
      "cell_type": "code",
      "source": [
        "!mkdir {HOME}/datasets\n"
      ],
      "metadata": {
        "id": "br79lqzNFAbL"
      },
      "execution_count": null,
      "outputs": []
    },
    {
      "cell_type": "code",
      "source": [
        "!pwd"
      ],
      "metadata": {
        "id": "AVaARkhlFEhj"
      },
      "execution_count": null,
      "outputs": []
    },
    {
      "cell_type": "code",
      "source": [
        "%cd {HOME}/datasets\n"
      ],
      "metadata": {
        "id": "4TCmhlOeFKPE"
      },
      "execution_count": null,
      "outputs": []
    },
    {
      "cell_type": "code",
      "source": [
        "!pwd"
      ],
      "metadata": {
        "id": "Mbv9H11bFMFY"
      },
      "execution_count": null,
      "outputs": []
    },
    {
      "cell_type": "code",
      "source": [
        "!pip install roboflow\n",
        "\n",
        "from roboflow import Roboflow\n",
        "rf = Roboflow(api_key=\"16XuuBsC5XqwYkDJ8HdL\")\n",
        "project = rf.workspace(\"vidhya-shankar-ely0e\").project(\"potholedetectionyolov8-k6l02\")\n",
        "dataset = project.version(2).download(\"yolov5\")"
      ],
      "metadata": {
        "id": "8CElZj-vi6Mj"
      },
      "execution_count": null,
      "outputs": []
    },
    {
      "cell_type": "markdown",
      "source": [
        "#**Train the YOLOv8 Model on the Custom Dataset**"
      ],
      "metadata": {
        "id": "65k1QMPwjt63"
      }
    },
    {
      "cell_type": "code",
      "source": [
        "%cd {HOME}"
      ],
      "metadata": {
        "id": "rcZyNfEnjpGz"
      },
      "execution_count": null,
      "outputs": []
    },
    {
      "cell_type": "code",
      "source": [
        "%cd {dataset.location}"
      ],
      "metadata": {
        "id": "mbBeu_eFj4J3"
      },
      "execution_count": null,
      "outputs": []
    },
    {
      "cell_type": "code",
      "source": [
        "%cd {HOME}\n",
        "\n",
        "!yolo task=detect mode=train model=yolov8s.pt data=/content/datasets/potholeDetectionYoloV8-2/data.yaml epochs=70 imgsz=640"
      ],
      "metadata": {
        "id": "SA3S___qj88u"
      },
      "execution_count": null,
      "outputs": []
    },
    {
      "cell_type": "code",
      "source": [
        "!ls {HOME}//runs/detect/train3"
      ],
      "metadata": {
        "id": "VIdYdhQjT1pR"
      },
      "execution_count": null,
      "outputs": []
    },
    {
      "cell_type": "markdown",
      "source": [
        "#**Displaying the Confusion Matrix**"
      ],
      "metadata": {
        "id": "dRT8XUB2T-rs"
      }
    },
    {
      "cell_type": "code",
      "source": [
        "#Confusion matrix is the chart that shows how our model handles different classes\n",
        "#68% of the time the model detected correctly that there is a pothole, while 32% of the time, when the pothole is there but the model is not\n",
        "#able to detect it\n",
        "%cd {HOME}\n",
        "Image(filename=f'{HOME}/runs/detect/train3/confusion_matrix.png', width=900)"
      ],
      "metadata": {
        "id": "i8rzAG4LUDuB"
      },
      "execution_count": null,
      "outputs": []
    },
    {
      "cell_type": "markdown",
      "source": [
        "#**Training and Validation Loss**"
      ],
      "metadata": {
        "id": "PZT7Yj__UPQl"
      }
    },
    {
      "cell_type": "code",
      "source": [
        "# Here is the graph of the training and validation loss\n",
        "#box loss and class loss is important\n",
        "# The behavior of the model is convincing the model is coverging, Training more will give better results\n",
        "%cd {HOME}\n",
        "\n",
        "Image(filename=f'{HOME}/runs/detect/train3/results.png', width=600)"
      ],
      "metadata": {
        "id": "guhGMMJxUPak"
      },
      "execution_count": null,
      "outputs": []
    },
    {
      "cell_type": "code",
      "source": [
        "#Model Prediction on validation batch. These image are not used strictly for training so it is always better to take a\n",
        "#look and see how model is behaving\n",
        "%cd {HOME}\n",
        "Image(filename=f'{HOME}/runs/detect/train3/val_batch0_pred.jpg', width=800)"
      ],
      "metadata": {
        "id": "T1QPiDrRUaFt"
      },
      "execution_count": null,
      "outputs": []
    },
    {
      "cell_type": "markdown",
      "source": [
        "#**Validate Custom Model**"
      ],
      "metadata": {
        "id": "iIzpjss8p242"
      }
    },
    {
      "cell_type": "code",
      "source": [
        "#Here, we are taking the model best weights and using them to validate the model. Similarly as before we are using\n",
        "#CLI to do that, The only difference is our mode = val instead of train\n",
        "#Validation Script is using test dataset that was not used beforew\n",
        "\n",
        "%cd {HOME}\n",
        "\n",
        "!yolo task=detect mode=val model={HOME}/runs/detect/train3/weights/best.pt data=/content/datasets/potholeDetectionYoloV8-2/data.yaml"
      ],
      "metadata": {
        "id": "ksNb0J6akcKT"
      },
      "execution_count": null,
      "outputs": []
    },
    {
      "cell_type": "markdown",
      "source": [
        "#**Inference with Custom Model**"
      ],
      "metadata": {
        "id": "lNwT90FUquDP"
      }
    },
    {
      "cell_type": "code",
      "source": [
        "# Testing the Model on Test Dataset images\n",
        "%cd {HOME}\n",
        "!yolo task=detect mode=predict model={HOME}/runs/detect/train3/weights/best.pt conf=0.25 source=/content/datasets/potholeDetectionYoloV8-2/test/images"
      ],
      "metadata": {
        "id": "hHh4joWOqeIg"
      },
      "execution_count": null,
      "outputs": []
    },
    {
      "cell_type": "code",
      "source": [
        "Image(\"/content/runs/detect/predict2/16_jpg.rf.0b3dbe349c7e0796a6dea8712d6474b5.jpg\")"
      ],
      "metadata": {
        "id": "HBeWcTQiq7_k"
      },
      "execution_count": null,
      "outputs": []
    },
    {
      "cell_type": "markdown",
      "source": [
        "#**Testing on a Demo Video**"
      ],
      "metadata": {
        "id": "Fq2qoyOQtZOH"
      }
    },
    {
      "cell_type": "code",
      "source": [
        "!gdown 'https://drive.google.com/uc?id=191krl3cz61oZCWwNyd5TLTSdUIb5HRI9&confirm=t'"
      ],
      "metadata": {
        "id": "lp5FPBUgZP8k"
      },
      "execution_count": null,
      "outputs": []
    },
    {
      "cell_type": "code",
      "source": [
        "%cd {HOME}\n",
        "!yolo task=detect mode=predict model={HOME}/runs/detect/train3/weights/best.pt conf=0.25 source='/content/demo.mp4'"
      ],
      "metadata": {
        "id": "MwvKhrGlrLc4"
      },
      "execution_count": null,
      "outputs": []
    },
    {
      "cell_type": "markdown",
      "source": [
        "#**Display the Demo Video**"
      ],
      "metadata": {
        "id": "-nzzls6Mwo8U"
      }
    },
    {
      "cell_type": "code",
      "source": [
        "!rm \"/content/result_compressed.mp4\""
      ],
      "metadata": {
        "id": "x8vsM8ZztfOG"
      },
      "execution_count": null,
      "outputs": []
    },
    {
      "cell_type": "code",
      "source": [
        "from IPython.display import HTML\n",
        "from base64 import b64encode\n",
        "import os\n",
        "\n",
        "# Input video path\n",
        "save_path = '/content/runs/detect/predict4/demo.mp4'\n",
        "\n",
        "# Compressed video path\n",
        "compressed_path = \"/content/result_compressed.mp4\"\n",
        "\n",
        "os.system(f\"ffmpeg -i {save_path} -vcodec libx264 {compressed_path}\")\n",
        "\n",
        "# Show video\n",
        "mp4 = open(compressed_path,'rb').read()\n",
        "data_url = \"data:video/mp4;base64,\" + b64encode(mp4).decode()\n",
        "HTML(\"\"\"\n",
        "<video width=400 controls>\n",
        "      <source src=\"%s\" type=\"video/mp4\">\n",
        "</video>\n",
        "\"\"\" % data_url)"
      ],
      "metadata": {
        "id": "Ep7iJPcKwuCx"
      },
      "execution_count": null,
      "outputs": []
    },
    {
      "cell_type": "code",
      "source": [],
      "metadata": {
        "id": "9SO2P2QLwyP4"
      },
      "execution_count": null,
      "outputs": []
    }
  ]
}